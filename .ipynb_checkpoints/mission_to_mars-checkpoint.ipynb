{
 "cells": [
  {
   "cell_type": "code",
   "execution_count": 1,
   "metadata": {},
   "outputs": [],
   "source": [
    "# Dependencies\n",
    "import pandas as pd\n",
    "import time\n",
    "import requests as req\n",
    "from bs4 import BeautifulSoup as bs\n",
    "from splinter import Browser\n",
    "from webdriver_manager.chrome import ChromeDriverManager "
   ]
  },
  {
   "cell_type": "code",
   "execution_count": 2,
   "metadata": {},
   "outputs": [
    {
     "name": "stderr",
     "output_type": "stream",
     "text": [
      "[WDM] - ====== WebDriver manager ======\n",
      "[WDM] - Current google-chrome version is 89.0.4389\n",
      "[WDM] - Get LATEST driver version for 89.0.4389\n"
     ]
    },
    {
     "name": "stdout",
     "output_type": "stream",
     "text": [
      "\n",
      "\n"
     ]
    },
    {
     "name": "stderr",
     "output_type": "stream",
     "text": [
      "[WDM] - Driver [C:\\Users\\ocean\\.wdm\\drivers\\chromedriver\\win32\\89.0.4389.23\\chromedriver.exe] found in cache\n"
     ]
    }
   ],
   "source": [
    "executable_path = {'executable_path': ChromeDriverManager().install()}\n",
    "browser = Browser('chrome', **executable_path, headless=False)"
   ]
  },
  {
   "cell_type": "markdown",
   "metadata": {},
   "source": [
    "# Scraping"
   ]
  },
  {
   "cell_type": "markdown",
   "metadata": {},
   "source": [
    "## NASA Mars News"
   ]
  },
  {
   "cell_type": "markdown",
   "metadata": {},
   "source": [
    "- Scraped the [NASA Mars News Site](https://mars.nasa.gov/news/?page=0&per_page=40&order=publish_date+desc%2Ccreated_at+desc&search=&category=19%2C165%2C184%2C204&blank_scope=Latest) and collected the latest News Title and Paragraph Text.  \n",
    "- Assign the text to variables that we can reference later."
   ]
  },
  {
   "cell_type": "code",
   "execution_count": 11,
   "metadata": {},
   "outputs": [
    {
     "name": "stdout",
     "output_type": "stream",
     "text": [
      "Another First: Perseverance Captures the Sounds of Driving on Mars\n",
      "NASA’s newest rover recorded audio of itself crunching over the surface of the Red Planet, adding a whole new dimension to Mars exploration.\n"
     ]
    }
   ],
   "source": [
    "# set up url for NASA news site, browser, and html\n",
    "news_url = 'https://mars.nasa.gov/news/'\n",
    "browser.visit(news_url)\n",
    "news_html = browser.html\n",
    "\n",
    "# parse with BeautifulSoup\n",
    "news_soup = bs(news_html, 'html.parser')\n",
    "\n",
    "# find the latest news article title and print it\n",
    "article_title = news_soup.find_all('div', class_='content_title')[1].find('a').text\n",
    "print(article_title)\n",
    "time.sleep(5) # sleep before next task \n",
    "\n",
    "# find the latest news article paragraph text and print it\n",
    "article_p = news_soup.find('div', class_='article_teaser_body').text\n",
    "print(article_p)\n",
    "time.sleep(5) # sleep before next task "
   ]
  },
  {
   "cell_type": "markdown",
   "metadata": {},
   "source": [
    "## JPL Mars Space Images - Featured Image"
   ]
  },
  {
   "cell_type": "markdown",
   "metadata": {},
   "source": [
    "- Visit the url for JPL Featured Space Image [here](https://data-class-jpl-space.s3.amazonaws.com/JPL_Space/index.html).\n",
    "- Use splinter to navigate the site and find the image url for the current Featured Mars Image and assign the url string to a variable called featured_image_url.\n",
    "- Make sure to find the image url to the full size .jpg image."
   ]
  },
  {
   "cell_type": "code",
   "execution_count": null,
   "metadata": {
    "scrolled": true
   },
   "outputs": [],
   "source": [
    "# set up url for JPL Featured Mars Image, browser, and html\n",
    "image_url = 'https://data-class-jpl-space.s3.amazonaws.com/JPL_Space/index.html'\n",
    "browser.visit(image_url)\n",
    "image_html = browser.html\n",
    "\n",
    "# go to 'FULL IMAGE'\n",
    "browser.click_link_by_partial_text('FULL IMAGE')\n",
    "time.sleep(5) # sleep before next task \n",
    "\n",
    "# parse with BeautifulSoup\n",
    "image_soup = bs(image_html, 'html.parser')\n",
    "\n",
    "# scrape the URL\n",
    "base_url = 'https://www.jpl.nasa.gov/'\n",
    "feature_url = image_soup.find('img', class_='fancybox-image')['src']\n",
    "featured_image_url = f'{base_url}{feature_url}'\n",
    "\n",
    "# print the url for the full image version of the Featured Mars Image\n",
    "print(featured_image_url)"
   ]
  },
  {
   "cell_type": "markdown",
   "metadata": {},
   "source": [
    "## Mars Facts\n",
    "- Visit the Mars Facts webpage [here](https://space-facts.com/mars/) and use Pandas to scrape the table containing facts about the planet including Diameter, Mass, etc.\n",
    "- Use Pandas to convert the data to an HTML table string."
   ]
  },
  {
   "cell_type": "code",
   "execution_count": null,
   "metadata": {},
   "outputs": [],
   "source": [
    "# set up url for Mars Facts and browser\n",
    "facts_url = \"https://space-facts.com/mars/\"\n",
    "browser.visit(facts_url)\n",
    "\n",
    "# use Pandas to parse facts url to find all tables\n",
    "facts_tables = pd.read_html(facts_url)\n",
    "\n",
    "# select the correct table from the list of tables\n",
    "facts_df = facts_tables[0]\n",
    "\n",
    "# rename the columns with appropriate headings\n",
    "facts_df.columns = ['Variable', 'Value']\n",
    "\n",
    "# convert the data to an HTML string\n",
    "facts_string = facts_df.to_html(index=False)\n",
    "print(facts_string)"
   ]
  },
  {
   "cell_type": "markdown",
   "metadata": {},
   "source": [
    "## Mars Hemispheres\n",
    "- Visit the USGS Astrogeology site [here](https://astrogeology.usgs.gov/search/results?q=hemisphere+enhanced&k1=target&v1=Mars) to obtain high resolution images for each of Mar's hemispheres.\n",
    "- Save both the image url string for the full resolution hemisphere image, and the Hemisphere title containing the hemisphere name. Use a Python dictionary to store the data using the keys img_url and title.\n",
    "- Append the dictionary with the image url string and the hemisphere title to a list. This list contains one dictionary for each hemisphere."
   ]
  },
  {
   "cell_type": "code",
   "execution_count": null,
   "metadata": {},
   "outputs": [],
   "source": [
    "# set up url and browser\n",
    "hemispheres_url = \"https://astrogeology.usgs.gov/search/results?q=hemisphere+enhanced&k1=target&v1=Mars\"\n",
    "browser.visit(hemispheres_url)\n",
    "html_hemispheres = browser.html\n",
    "\n",
    "# # Parse HTML with Beautiful Soup\n",
    "# soup = bs(html_hemispheres, 'html.parser')\n",
    "\n",
    "# # Retreive all items that contain mars hemispheres information\n",
    "# items = soup.find_all('div', class_='item')\n",
    "\n",
    "# # Create empty list for hemisphere urls \n",
    "# hemisphere_image_urls = []\n",
    "\n",
    "# # Store the main_ul \n",
    "# hemispheres_main_url = 'https://astrogeology.usgs.gov'\n",
    "\n",
    "# # Loop through the items previously stored\n",
    "# for i in items: \n",
    "#     # Store title\n",
    "#     title = i.find('h3').text\n",
    "    \n",
    "#     # Store link that leads to full image website\n",
    "#     partial_img_url = i.find('a', class_='itemLink product-item')['href']\n",
    "    \n",
    "#     # Visit the link that contains the full image website \n",
    "#     browser.visit(hemispheres_main_url + partial_img_url)\n",
    "    \n",
    "#     # HTML Object of individual hemisphere information website \n",
    "#     partial_img_html = browser.html\n",
    "    \n",
    "#     # Parse HTML with Beautiful Soup for every individual hemisphere information website \n",
    "#     soup = bs( partial_img_html, 'html.parser')\n",
    "    \n",
    "#     # Retrieve full image source \n",
    "#     img_url = hemispheres_main_url + soup.find('img', class_='wide-image')['src']\n",
    "    \n",
    "#     # Append the retreived information into a list of dictionaries \n",
    "#     hemisphere_image_urls.append({\"title\" : title, \"img_url\" : img_url})\n",
    "    \n",
    "\n",
    "# # Display hemisphere_image_urls\n",
    "# hemisphere_image_urls\n",
    "\n",
    "# close the browser\n",
    "browser.quit()"
   ]
  }
 ],
 "metadata": {
  "kernelspec": {
   "display_name": "Python 3",
   "language": "python",
   "name": "python3"
  },
  "language_info": {
   "codemirror_mode": {
    "name": "ipython",
    "version": 3
   },
   "file_extension": ".py",
   "mimetype": "text/x-python",
   "name": "python",
   "nbconvert_exporter": "python",
   "pygments_lexer": "ipython3",
   "version": "3.8.5"
  }
 },
 "nbformat": 4,
 "nbformat_minor": 4
}
