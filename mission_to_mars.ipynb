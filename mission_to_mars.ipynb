{
 "cells": [
  {
   "cell_type": "code",
   "execution_count": 1,
   "metadata": {},
   "outputs": [],
   "source": [
    "# dependencies\n",
    "import pandas as pd\n",
    "from pprint import pprint \n",
    "import time\n",
    "import requests as req\n",
    "from bs4 import BeautifulSoup as bs\n",
    "from splinter import Browser\n",
    "from webdriver_manager.chrome import ChromeDriverManager "
   ]
  },
  {
   "cell_type": "code",
   "execution_count": 2,
   "metadata": {},
   "outputs": [
    {
     "name": "stderr",
     "output_type": "stream",
     "text": [
      "[WDM] - ====== WebDriver manager ======\n",
      "[WDM] - Current google-chrome version is 89.0.4389\n",
      "[WDM] - Get LATEST driver version for 89.0.4389\n"
     ]
    },
    {
     "name": "stdout",
     "output_type": "stream",
     "text": [
      "\n",
      "\n"
     ]
    },
    {
     "name": "stderr",
     "output_type": "stream",
     "text": [
      "[WDM] - Driver [C:\\Users\\ocean\\.wdm\\drivers\\chromedriver\\win32\\89.0.4389.23\\chromedriver.exe] found in cache\n"
     ]
    }
   ],
   "source": [
    "# set up chromedriver and browser\n",
    "executable_path = {'executable_path': ChromeDriverManager().install()}\n",
    "browser = Browser('chrome', **executable_path, headless=False)\n",
    "time.sleep(5) # sleep before next task "
   ]
  },
  {
   "cell_type": "markdown",
   "metadata": {},
   "source": [
    "# Scraping"
   ]
  },
  {
   "cell_type": "markdown",
   "metadata": {},
   "source": [
    "## NASA Mars News"
   ]
  },
  {
   "cell_type": "markdown",
   "metadata": {},
   "source": [
    "- Scraped the [NASA Mars News Site](https://mars.nasa.gov/news/?page=0&per_page=40&order=publish_date+desc%2Ccreated_at+desc&search=&category=19%2C165%2C184%2C204&blank_scope=Latest) and collected the latest News Title and Paragraph Text.  \n",
    "- Assign the text to variables that we can reference later."
   ]
  },
  {
   "cell_type": "code",
   "execution_count": 3,
   "metadata": {},
   "outputs": [
    {
     "name": "stdout",
     "output_type": "stream",
     "text": [
      "NASA Ingenuity Mars Helicopter Prepares for First Flight\n",
      "Now uncocooned from its protective carbon-fiber shield, the helicopter is being readied for its next steps.  \n"
     ]
    }
   ],
   "source": [
    "# set up url for NASA news site, browser, and html\n",
    "news_url = 'https://mars.nasa.gov/news/'\n",
    "browser.visit(news_url)\n",
    "time.sleep(2) # sleep before next task \n",
    "news_html = browser.html\n",
    "\n",
    "# parse with BeautifulSoup\n",
    "news_soup = bs(news_html, 'html.parser')\n",
    "\n",
    "# find the latest news article\n",
    "latest_article = news_soup.find('li', class_='slide')\n",
    "\n",
    "# find the latest news article title\n",
    "article_title = latest_article.find('div', class_='content_title').find('a').text\n",
    "\n",
    "# find the latest news article paragraph text\n",
    "article_p = latest_article.find('div', class_='article_teaser_body').text\n",
    "\n",
    "# print the title and the paragraph text\n",
    "print(article_title)\n",
    "print(article_p)"
   ]
  },
  {
   "cell_type": "markdown",
   "metadata": {},
   "source": [
    "## JPL Mars Space Images - Featured Image"
   ]
  },
  {
   "cell_type": "markdown",
   "metadata": {},
   "source": [
    "- Visit the url for JPL Featured Space Image [here](https://data-class-jpl-space.s3.amazonaws.com/JPL_Space/index.html).\n",
    "- Use splinter to navigate the site and find the image url for the current Featured Mars Image and assign the url string to a variable called featured_image_url.\n",
    "- Make sure to find the image url to the full size .jpg image."
   ]
  },
  {
   "cell_type": "code",
   "execution_count": 4,
   "metadata": {
    "scrolled": true
   },
   "outputs": [
    {
     "name": "stdout",
     "output_type": "stream",
     "text": [
      "https://data-class-jpl-space.s3.amazonaws.com/JPL_Space/image/featured/mars3.jpg\n"
     ]
    }
   ],
   "source": [
    "# set up url for JPL Featured Mars Image, browser, and html\n",
    "image_url = 'https://data-class-jpl-space.s3.amazonaws.com/JPL_Space/index.html'\n",
    "browser.visit(image_url)\n",
    "time.sleep(2) # sleep before next task \n",
    "\n",
    "# go to 'FULL IMAGE', set the new browser link, and html\n",
    "browser.links.find_by_partial_text('FULL IMAGE').first.click()\n",
    "time.sleep(2) # sleep before next task \n",
    "full_image_html = browser.html\n",
    "\n",
    "# parse with BeautifulSoup\n",
    "image_soup = bs(full_image_html, 'html.parser')\n",
    "\n",
    "# scrape the URL\n",
    "feature_url = image_soup.find('img', class_='fancybox-image')['src']\n",
    "\n",
    "# print the url for the full image version of the Featured Mars Image\n",
    "base_url = 'https://data-class-jpl-space.s3.amazonaws.com/JPL_Space/'\n",
    "featured_image_url = f'{base_url}{feature_url}'\n",
    "print(featured_image_url)"
   ]
  },
  {
   "cell_type": "markdown",
   "metadata": {},
   "source": [
    "## Mars Facts\n",
    "- Visit the Mars Facts webpage [here](https://space-facts.com/mars/) and use Pandas to scrape the table containing facts about the planet including Diameter, Mass, etc.\n",
    "- Use Pandas to convert the data to an HTML table string."
   ]
  },
  {
   "cell_type": "code",
   "execution_count": 5,
   "metadata": {},
   "outputs": [
    {
     "name": "stdout",
     "output_type": "stream",
     "text": [
      "<table border=\"1\" class=\"dataframe\">\n",
      "  <thead>\n",
      "    <tr style=\"text-align: right;\">\n",
      "      <th>Variable</th>\n",
      "      <th>Value</th>\n",
      "    </tr>\n",
      "  </thead>\n",
      "  <tbody>\n",
      "    <tr>\n",
      "      <td>Equatorial Diameter:</td>\n",
      "      <td>6,792 km</td>\n",
      "    </tr>\n",
      "    <tr>\n",
      "      <td>Polar Diameter:</td>\n",
      "      <td>6,752 km</td>\n",
      "    </tr>\n",
      "    <tr>\n",
      "      <td>Mass:</td>\n",
      "      <td>6.39 × 10^23 kg (0.11 Earths)</td>\n",
      "    </tr>\n",
      "    <tr>\n",
      "      <td>Moons:</td>\n",
      "      <td>2 (Phobos &amp; Deimos)</td>\n",
      "    </tr>\n",
      "    <tr>\n",
      "      <td>Orbit Distance:</td>\n",
      "      <td>227,943,824 km (1.38 AU)</td>\n",
      "    </tr>\n",
      "    <tr>\n",
      "      <td>Orbit Period:</td>\n",
      "      <td>687 days (1.9 years)</td>\n",
      "    </tr>\n",
      "    <tr>\n",
      "      <td>Surface Temperature:</td>\n",
      "      <td>-87 to -5 °C</td>\n",
      "    </tr>\n",
      "    <tr>\n",
      "      <td>First Record:</td>\n",
      "      <td>2nd millennium BC</td>\n",
      "    </tr>\n",
      "    <tr>\n",
      "      <td>Recorded By:</td>\n",
      "      <td>Egyptian astronomers</td>\n",
      "    </tr>\n",
      "  </tbody>\n",
      "</table>\n"
     ]
    }
   ],
   "source": [
    "# set up url for Mars Facts and browser\n",
    "facts_url = \"https://space-facts.com/mars/\"\n",
    "browser.visit(facts_url)\n",
    "time.sleep(2) # sleep before next task \n",
    "\n",
    "# use Pandas to parse facts url to find all tables\n",
    "facts_table_list = pd.read_html(facts_url)\n",
    "\n",
    "# select the correct table from the list of tables\n",
    "facts_table = facts_table_list[0]\n",
    "\n",
    "# rename the columns with appropriate headings\n",
    "facts_table.columns = ['Variable', 'Value']\n",
    "\n",
    "# convert the data to an HTML string\n",
    "facts_string = facts_table.to_html(index=False)\n",
    "print(facts_string)"
   ]
  },
  {
   "cell_type": "markdown",
   "metadata": {},
   "source": [
    "## Mars Hemispheres\n",
    "- Visit the USGS Astrogeology site [here](https://astrogeology.usgs.gov/search/results?q=hemisphere+enhanced&k1=target&v1=Mars) to obtain high resolution images for each of Mar's hemispheres.\n",
    "- Save both the image url string for the full resolution hemisphere image, and the Hemisphere title containing the hemisphere name. Use a Python dictionary to store the data using the keys img_url and title.\n",
    "- Append the dictionary with the image url string and the hemisphere title to a list. This list contains one dictionary for each hemisphere."
   ]
  },
  {
   "cell_type": "code",
   "execution_count": 6,
   "metadata": {},
   "outputs": [
    {
     "name": "stdout",
     "output_type": "stream",
     "text": [
      "[{'Link to article': 'https://astrogeology.usgs.gov/cache/images/f5e372a36edfa389625da6d0cc25d905_cerberus_enhanced.tif_full.jpg',\n",
      "  'Title': 'Cerberus Hemisphere Enhanced'},\n",
      " {'Link to article': 'https://astrogeology.usgs.gov/cache/images/3778f7b43bbbc89d6e3cfabb3613ba93_schiaparelli_enhanced.tif_full.jpg',\n",
      "  'Title': 'Schiaparelli Hemisphere Enhanced'},\n",
      " {'Link to article': 'https://astrogeology.usgs.gov/cache/images/555e6403a6ddd7ba16ddb0e471cadcf7_syrtis_major_enhanced.tif_full.jpg',\n",
      "  'Title': 'Syrtis Major Hemisphere Enhanced'},\n",
      " {'Link to article': 'https://astrogeology.usgs.gov/cache/images/b3c7c6c9138f57b4756be9b9c43e3a48_valles_marineris_enhanced.tif_full.jpg',\n",
      "  'Title': 'Valles Marineris Hemisphere Enhanced'}]\n"
     ]
    }
   ],
   "source": [
    "# set up url for USGS Astrogeology, browser, and html\n",
    "hemispheres_url = \"https://astrogeology.usgs.gov/search/results?q=hemisphere+enhanced&k1=target&v1=Mars\"\n",
    "browser.visit(hemispheres_url)\n",
    "time.sleep(2) # sleep before next task\n",
    "html_hemispheres = browser.html\n",
    "\n",
    "# set up base url\n",
    "hemispheres_base_url = 'https://astrogeology.usgs.gov'\n",
    "\n",
    "# parse with BeautifulSoup\n",
    "hemispheres_soup = bs(html_hemispheres, 'html.parser')\n",
    "\n",
    "# retrieve the all items (contains all info for hemispheres)\n",
    "hemispheres_items = hemispheres_soup.find_all('div', class_='item')\n",
    "\n",
    "# empty list for titles and image urls\n",
    "hemispheres_data = []\n",
    "\n",
    "# loop through items containing all the hemispheres' info\n",
    "for item in hemispheres_items: \n",
    "    \n",
    "    # find and store titles\n",
    "    title = item.find('h3').text\n",
    "    \n",
    "    # find link that leads to full res image\n",
    "    hemispheres_full = item.find('a', class_='itemLink product-item')['href']\n",
    "    \n",
    "    # navigate to site containing full res image\n",
    "    browser.visit(hemispheres_base_url + hemispheres_full)\n",
    "    time.sleep(2) # sleep before next task \n",
    "    \n",
    "    # save the html of site containing each hemisphere's full res image\n",
    "    full_res_url = browser.html\n",
    "    \n",
    "    # parse each hemisphere's html with BeautifulSoup\n",
    "    hemispheres_soup = bs(full_res_url, 'html.parser')\n",
    "    \n",
    "    # save the path to full res image\n",
    "    full_res_path = hemispheres_soup.find('img', class_='wide-image')['src']\n",
    "    \n",
    "    # save the url to the full res image \n",
    "    img_url = f'{hemispheres_base_url}{full_res_path}'\n",
    "    \n",
    "    # append title and full res image url to hemispheres dictionary\n",
    "    hemispheres_data.append({'Title' : title, 'Link to article' : img_url})  \n",
    "    \n",
    "# print the hemispheres dictionary\n",
    "pprint(hemispheres_data)"
   ]
  },
  {
   "cell_type": "code",
   "execution_count": 7,
   "metadata": {},
   "outputs": [],
   "source": [
    "# close the browser\n",
    "browser.quit()"
   ]
  }
 ],
 "metadata": {
  "kernelspec": {
   "display_name": "Python 3",
   "language": "python",
   "name": "python3"
  },
  "language_info": {
   "codemirror_mode": {
    "name": "ipython",
    "version": 3
   },
   "file_extension": ".py",
   "mimetype": "text/x-python",
   "name": "python",
   "nbconvert_exporter": "python",
   "pygments_lexer": "ipython3",
   "version": "3.8.5"
  }
 },
 "nbformat": 4,
 "nbformat_minor": 4
}
